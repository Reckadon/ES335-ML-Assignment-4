{
 "cells": [
  {
   "cell_type": "markdown",
   "metadata": {},
   "source": [
    "# Task 2\n",
    "#### In this question you will implement and compare the following different KNN variants:\n",
    "- ##### LSH\n",
    "- ##### KD-Tree\n",
    "- ##### Naive Version of KNN\n",
    "Vary dataset size `N`, number of dimensions `D` to do training and testing time and memory comparison for finding K nearest neighbours. "
   ]
  },
  {
   "cell_type": "code",
   "execution_count": null,
   "metadata": {},
   "outputs": [],
   "source": [
    "import numpy as np\n",
    "import pandas as pd\n",
    "from sklearn.datasets import make_blobs\n",
    "import matplotlib.pyplot as plt\n",
    "import time\n",
    "from memory_profiler import memory_usage"
   ]
  },
  {
   "cell_type": "code",
   "execution_count": null,
   "metadata": {},
   "outputs": [
    {
     "data": {
      "image/png": "[encoded data removed]",
      "text/plain": [
       "<Figure size 640x480 with 1 Axes>"
      ]
     },
     "metadata": {},
     "output_type": "display_data"
    }
   ],
   "source": [
    "n_features = 2\n",
    "\n",
    "def generate_data(N, D, clusters=3):\n",
    "    X, y = make_blobs(n_samples=N, centers=clusters, n_features=n_features, random_state=42)\n",
    "    return X, y\n",
    "\n",
    "def plot_data(matrix, labels):\n",
    "    X = matrix[:, 0]\n",
    "    Y = matrix[:, 1]\n",
    "    plt.scatter(X, Y, c=labels)\n",
    "\n",
    "rng = np.random.default_rng(0)\n",
    "\n",
    "data, clusters = generate_data(N = 15, clusters=3, D=n_features)  # testing the function\n",
    "plot_data(data, clusters)"
   ]
  },
  {
   "cell_type": "markdown",
   "metadata": {},
   "source": [
    "### LSH \n",
    "Locality-sensitive hashing (LSH) is a method that hashes similar data points to have a high chance of being grouped together. This makes LSH a good way to optimize similarity search: by comparing the query data only with a subset of presumably similar items, you can avoid having to sort the entire dataset by some distance metric. The trade-off here is that there is no guarantee for correctness."
   ]
  },
  {
   "cell_type": "code",
   "execution_count": null,
   "metadata": {},
   "outputs": [],
   "source": [
    "def generate_hyperplanes(n, num_planes):\n",
    "    H = rng.normal(size=(num_planes, n))  # hyperplanes as their normal vectors\n",
    "    return H\n",
    "\n",
    "planes = generate_hyperplanes(n_features, 3)"
   ]
  },
  {
   "cell_type": "markdown",
   "metadata": {},
   "source": [
    "### Naive KNN"
   ]
  },
  {
   "cell_type": "code",
   "execution_count": null,
   "metadata": {},
   "outputs": [],
   "source": [
    "def distance(x1 , x2):\n",
    "    dist = np.sqrt(np.sum((x1-x2)**2))\n",
    "    return dist"
   ]
  },
  {
   "cell_type": "code",
   "execution_count": null,
   "metadata": {},
   "outputs": [],
   "source": [
    "class KNN:\n",
    "    def __init__(self, k):\n",
    "        self.k = k\n",
    "\n",
    "    def fit(self, X, y):\n",
    "        self.X_train = X\n",
    "        self.y_train = y\n",
    "\n",
    "    def predict(self, X):\n",
    "        predictions = [self._predict(x) for x in X]\n",
    "        return predictions\n",
    "\n",
    "    def _predict(self, x):\n",
    "        # compute the distance\n",
    "        distances = [distance(x, x_train) for x_train in self.X_train]\n",
    "    \n",
    "        # get the closest k\n",
    "        k_indices = np.argsort(distances)[:self.k]\n",
    "        k_nearest_labels = [self.y_train[i] for i in k_indices]\n",
    "        print(k_nearest_labels)\n",
    "\n",
    "        # majority vote\n",
    "        label_counts = {}\n",
    "        for label in k_nearest_labels:\n",
    "            if label in label_counts:\n",
    "                label_counts[label] += 1\n",
    "            else:\n",
    "                label_counts[label] = 1\n",
    "\n",
    "        # Find the label with the highest count\n",
    "        most_common_label = max(label_counts, key=label_counts.get)\n",
    "        print(\"most_common_label =\", most_common_label)\n",
    "        \n",
    "        return k_indices\n",
    "        "
   ]
  },
  {
   "cell_type": "code",
   "execution_count": null,
   "metadata": {},
   "outputs": [
    {
     "data": {
      "text/plain": [
       "(array([[0.37454012, 0.95071431],\n",
       "        [0.73199394, 0.59865848],\n",
       "        [0.15601864, 0.15599452],\n",
       "        [0.05808361, 0.86617615],\n",
       "        [0.60111501, 0.70807258],\n",
       "        [0.02058449, 0.96990985],\n",
       "        [0.83244264, 0.21233911],\n",
       "        [0.18182497, 0.18340451],\n",
       "        [0.30424224, 0.52475643],\n",
       "        [0.43194502, 0.29122914],\n",
       "        [0.61185289, 0.13949386],\n",
       "        [0.29214465, 0.36636184],\n",
       "        [0.45606998, 0.78517596],\n",
       "        [0.19967378, 0.51423444],\n",
       "        [0.59241457, 0.04645041],\n",
       "        [0.60754485, 0.17052412],\n",
       "        [0.06505159, 0.94888554],\n",
       "        [0.96563203, 0.80839735],\n",
       "        [0.30461377, 0.09767211],\n",
       "        [0.68423303, 0.44015249],\n",
       "        [0.12203823, 0.49517691],\n",
       "        [0.03438852, 0.9093204 ],\n",
       "        [0.25877998, 0.66252228],\n",
       "        [0.31171108, 0.52006802],\n",
       "        [0.54671028, 0.18485446],\n",
       "        [0.96958463, 0.77513282],\n",
       "        [0.93949894, 0.89482735],\n",
       "        [0.59789998, 0.92187424],\n",
       "        [0.0884925 , 0.19598286],\n",
       "        [0.04522729, 0.32533033],\n",
       "        [0.38867729, 0.27134903],\n",
       "        [0.82873751, 0.35675333],\n",
       "        [0.28093451, 0.54269608],\n",
       "        [0.14092422, 0.80219698],\n",
       "        [0.07455064, 0.98688694],\n",
       "        [0.77224477, 0.19871568],\n",
       "        [0.00552212, 0.81546143],\n",
       "        [0.70685734, 0.72900717],\n",
       "        [0.77127035, 0.07404465],\n",
       "        [0.35846573, 0.11586906],\n",
       "        [0.86310343, 0.62329813],\n",
       "        [0.33089802, 0.06355835],\n",
       "        [0.31098232, 0.32518332],\n",
       "        [0.72960618, 0.63755747],\n",
       "        [0.88721274, 0.47221493],\n",
       "        [0.11959425, 0.71324479],\n",
       "        [0.76078505, 0.5612772 ],\n",
       "        [0.77096718, 0.4937956 ],\n",
       "        [0.52273283, 0.42754102],\n",
       "        [0.02541913, 0.10789143],\n",
       "        [0.03142919, 0.63641041],\n",
       "        [0.31435598, 0.50857069],\n",
       "        [0.90756647, 0.24929223],\n",
       "        [0.41038292, 0.75555114],\n",
       "        [0.22879817, 0.07697991],\n",
       "        [0.28975145, 0.16122129],\n",
       "        [0.92969765, 0.80812038],\n",
       "        [0.63340376, 0.87146059],\n",
       "        [0.80367208, 0.18657006],\n",
       "        [0.892559  , 0.53934224],\n",
       "        [0.80744016, 0.8960913 ],\n",
       "        [0.31800347, 0.11005192],\n",
       "        [0.22793516, 0.42710779],\n",
       "        [0.81801477, 0.86073058],\n",
       "        [0.00695213, 0.5107473 ],\n",
       "        [0.417411  , 0.22210781],\n",
       "        [0.11986537, 0.33761517],\n",
       "        [0.9429097 , 0.32320293],\n",
       "        [0.51879062, 0.70301896],\n",
       "        [0.3636296 , 0.97178208],\n",
       "        [0.96244729, 0.2517823 ],\n",
       "        [0.49724851, 0.30087831],\n",
       "        [0.28484049, 0.03688695],\n",
       "        [0.60956433, 0.50267902],\n",
       "        [0.05147875, 0.27864646],\n",
       "        [0.90826589, 0.23956189],\n",
       "        [0.14489487, 0.48945276],\n",
       "        [0.98565045, 0.24205527],\n",
       "        [0.67213555, 0.76161962],\n",
       "        [0.23763754, 0.72821635],\n",
       "        [0.36778313, 0.63230583],\n",
       "        [0.63352971, 0.53577468],\n",
       "        [0.09028977, 0.8353025 ],\n",
       "        [0.32078006, 0.18651851],\n",
       "        [0.04077514, 0.59089294],\n",
       "        [0.67756436, 0.01658783],\n",
       "        [0.51209306, 0.22649578],\n",
       "        [0.64517279, 0.17436643],\n",
       "        [0.69093774, 0.38673535],\n",
       "        [0.93672999, 0.13752094],\n",
       "        [0.34106635, 0.11347352],\n",
       "        [0.92469362, 0.87733935],\n",
       "        [0.25794163, 0.65998405],\n",
       "        [0.8172222 , 0.55520081],\n",
       "        [0.52965058, 0.24185229],\n",
       "        [0.09310277, 0.89721576],\n",
       "        [0.90041806, 0.63310146],\n",
       "        [0.33902979, 0.34920957],\n",
       "        [0.72595568, 0.89711026],\n",
       "        [0.88708642, 0.77987555]]),\n",
       " array([1, 1, 0, 0, 1, 1, 1, 1, 1, 1, 0, 1, 1, 0, 0, 0, 0, 1, 1, 1, 1, 1,\n",
       "        1, 0, 1, 0, 0, 1, 0, 1, 0, 1, 0, 1, 1, 1, 1, 1, 0, 0, 0, 1, 0, 1,\n",
       "        1, 0, 0, 1, 0, 1, 1, 1, 1, 1, 0, 0, 1, 1, 0, 0, 1, 0, 1, 0, 1, 0,\n",
       "        1, 0, 0, 1, 0, 1, 0, 1, 0, 1, 0, 1, 0, 1, 1, 1, 0, 1, 0, 1, 0, 1,\n",
       "        0, 0, 1, 0, 0, 1, 0, 0, 0, 1, 0, 1]))"
      ]
     },
     "execution_count": null,
     "metadata": {},
     "output_type": "execute_result"
    }
   ],
   "source": [
    "# Generate random data\n",
    "np.random.seed(42)\n",
    "X_train = np.random.rand(100, 2)\n",
    "y_train = np.random.randint(0, 2, size=100)\n",
    "X_test = np.array([[0.5, 0.5]])\n",
    "\n",
    "X_train, y_train"
   ]
  },
  {
   "cell_type": "code",
   "execution_count": null,
   "metadata": {},
   "outputs": [
    {
     "name": "stdout",
     "output_type": "stream",
     "text": [
      "[0, 1, 1]\n",
      "most_common_label = 1\n",
      "Naive KNN predictions: [48 73 81]\n",
      "Train time of Naive KNN - 5.17852258682251\n",
      "Test time of Naive KNN - 0.0010399818420410156\n",
      "Memory usage of Naive KNN - [138.10546875, 138.10546875, 138.10546875]\n"
     ]
    }
   ],
   "source": [
    "# Parameters\n",
    "k = 3\n",
    "\n",
    "# Naive KNN\n",
    "naive_knn = KNN(k)\n",
    "start_time = time.time()\n",
    "mem_usage = memory_usage((naive_knn.fit, (X_train, y_train)))\n",
    "train_time_naive = time.time() - start_time\n",
    "start_time = time.time()\n",
    "y_hat = naive_knn.predict(X_test)[0]\n",
    "test_time_naive = time.time() - start_time\n",
    "print(\"Naive KNN predictions:\", y_hat)\n",
    "print(\"Train time of Naive KNN -\", train_time_naive)\n",
    "print(\"Test time of Naive KNN -\", test_time_naive)\n",
    "print(\"Memory usage of Naive KNN -\", mem_usage)"
   ]
  },
  {
   "cell_type": "code",
   "execution_count": null,
   "metadata": {},
   "outputs": [
    {
     "data": {
      "image/png": "[encoded data removed]",
      "text/plain": [
       "<Figure size 640x480 with 1 Axes>"
      ]
     },
     "metadata": {},
     "output_type": "display_data"
    }
   ],
   "source": [
    "\n",
    "plt.scatter(X_train[:, 0], X_train[:, 1], c=y_train, cmap='viridis', s=50, label=\"Class 0\")\n",
    "plt.scatter(X_test[0, 0], X_test[0, 1], color='red', label='Test Point', marker='x', s=100)\n",
    "plt.legend()\n",
    "\n",
    "# Plot naive KNN neighbors\n",
    "for idx in y_hat:\n",
    "    plt.plot([X_test[0, 0], X_train[idx, 0]], [X_test[0, 1], X_train[idx, 1]], 'g--', linewidth=0.8, label='Naive KNN Neighbor' if idx == y_hat[0] else \"\")\n",
    "\n",
    "plt.title(\"Naive KNN\")\n",
    "plt.xlabel(\"Dimension 1\")\n",
    "plt.ylabel(\"Dimension 2\")\n",
    "plt.show()"
   ]
  },
  {
   "cell_type": "markdown",
   "metadata": {},
   "source": [
    "### KD Tree KNN"
   ]
  },
  {
   "cell_type": "code",
   "execution_count": null,
   "metadata": {},
   "outputs": [],
   "source": [
    "class KDTreeNode:\n",
    "    def __init__(self, point, label, left=None, right=None):\n",
    "        self.point = point\n",
    "        self.label = label\n",
    "        self.left = left\n",
    "        self.right = right\n",
    "\n",
    "class KDTREEKNN:\n",
    "    def __init__(self, k):\n",
    "        self.k = k\n",
    "        self.tree = None\n",
    "\n",
    "    def fit(self, X, y):\n",
    "        # Build the KD-tree\n",
    "        points = list(zip(X, y))\n",
    "        self.tree = self.build_kdtree(points)\n",
    "\n",
    "    def build_kdtree(self, points, depth=0):\n",
    "        n = len(points)\n",
    "        if n <= 0:\n",
    "            return None\n",
    "\n",
    "        # Select axis based on depth so that axis cycles over all dimensions\n",
    "        axis = depth % len(points[0][0])\n",
    "        # Sort points by the selected axis and pick the median as pivot\n",
    "        points.sort(key=lambda x: x[0][axis])\n",
    "        median = n // 2\n",
    "\n",
    "        # Create node and construct subtrees\n",
    "        return KDTreeNode(\n",
    "            point=points[median][0],\n",
    "            label=points[median][1],\n",
    "            left=self.build_kdtree(points[:median], depth + 1),\n",
    "            right=self.build_kdtree(points[median + 1:], depth + 1)\n",
    "        )\n",
    "\n",
    "    def predict(self, X):\n",
    "        predictions = [self._predict(x) for x in X]\n",
    "        return predictions\n",
    "\n",
    "    def _predict(self, x):\n",
    "        # Dictionary to store k nearest neighbors {distance: label}\n",
    "        nearest_neighbors = {}\n",
    "        \n",
    "        # Recursive function to search the KD-tree\n",
    "        def knn_search(node, depth=0):\n",
    "            if node is None:\n",
    "                return\n",
    "            \n",
    "            # Calculate distance between the point and the node's point\n",
    "            dist = np.linalg.norm(x - node.point)\n",
    "            \n",
    "            # Update nearest neighbors dictionary\n",
    "            if len(nearest_neighbors) < self.k:\n",
    "                nearest_neighbors[dist] = node.label\n",
    "            else:\n",
    "                # If we have k neighbors, check if the current distance is smaller than the farthest neighbor\n",
    "                max_dist = max(nearest_neighbors.keys())\n",
    "                if dist < max_dist:\n",
    "                    # Remove the farthest neighbor and add the current one\n",
    "                    nearest_neighbors.pop(max_dist)\n",
    "                    nearest_neighbors[dist] = node.label\n",
    "\n",
    "            # Choose the axis based on depth\n",
    "            axis = depth % len(x)\n",
    "            # Determine whether to go left or right in the tree\n",
    "            if x[axis] < node.point[axis]:\n",
    "                knn_search(node.left, depth + 1)\n",
    "                # Check if we need to search the other side\n",
    "                if abs(x[axis] - node.point[axis]) < max(nearest_neighbors.keys()) or len(nearest_neighbors) < self.k:\n",
    "                    knn_search(node.right, depth + 1)\n",
    "            else:\n",
    "                knn_search(node.right, depth + 1)\n",
    "                # Check if we need to search the other side\n",
    "                if abs(x[axis] - node.point[axis]) < max(nearest_neighbors.keys()) or len(nearest_neighbors) < self.k:\n",
    "                    knn_search(node.left, depth + 1)\n",
    "        \n",
    "        # Start search from root\n",
    "        knn_search(self.tree)\n",
    "        \n",
    "        # Return the labels of the k nearest neighbors\n",
    "        return list(nearest_neighbors.values())"
   ]
  },
  {
   "cell_type": "code",
   "execution_count": null,
   "metadata": {},
   "outputs": [
    {
     "name": "stdout",
     "output_type": "stream",
     "text": [
      "KD KNN predictions: [1, 1, 0]\n",
      "Train time of KD KNN - 2.8463425636291504\n",
      "Test time of KD KNN - 0.0\n",
      "Memory usage of KD KNN - [140.22265625, 140.22265625, 140.22265625, 140.22265625, 140.22265625, 140.22265625, 140.22265625, 140.22265625, 140.22265625, 140.22265625, 140.22265625, 140.22265625, 140.22265625, 140.22265625, 140.22265625, 140.22265625, 140.22265625, 140.22265625, 140.22265625, 140.22265625, 140.22265625, 140.22265625, 140.22265625, 140.22265625]\n"
     ]
    }
   ],
   "source": [
    "# Parameters\n",
    "k = 3\n",
    "\n",
    "# KD KNN\n",
    "KD_knn = KDTREEKNN(k)\n",
    "start_time = time.time()\n",
    "mem_usage = memory_usage((KD_knn.fit, (X_train, y_train)))\n",
    "train_time_KD = time.time() - start_time\n",
    "start_time = time.time()\n",
    "y_hat = KD_knn.predict(X_test)[0]\n",
    "test_time_KD = time.time() - start_time\n",
    "print(\"KD KNN predictions:\", y_hat)\n",
    "print(\"Train time of KD KNN -\", train_time_KD)\n",
    "print(\"Test time of KD KNN -\", test_time_KD)\n",
    "print(\"Memory usage of KD KNN -\", mem_usage)"
   ]
  }
 ],
 "metadata": {},
 "nbformat": 4,
 "nbformat_minor": 2
}
