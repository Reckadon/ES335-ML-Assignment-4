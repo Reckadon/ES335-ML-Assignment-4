{
 "cells": [
  {
   "cell_type": "markdown",
   "metadata": {},
   "source": [
    "# Task 2"
   ]
  },
  {
   "cell_type": "markdown",
   "metadata": {},
   "source": [
    "### Naive KNN"
   ]
  },
  {
   "cell_type": "code",
   "execution_count": 83,
   "metadata": {},
   "outputs": [],
   "source": [
    "import numpy as np\n",
    "import pandas as pd\n",
    "import matplotlib.pyplot as plt\n",
    "import time\n",
    "from pympler import asizeof\n"
   ]
  },
  {
   "cell_type": "code",
   "execution_count": 84,
   "metadata": {},
   "outputs": [],
   "source": [
    "def distance(x1 , x2):\n",
    "    dist = np.sqrt(np.sum((x1-x2)**2))\n",
    "    return dist"
   ]
  },
  {
   "cell_type": "code",
   "execution_count": 100,
   "metadata": {},
   "outputs": [],
   "source": [
    "\n",
    "class KNN:\n",
    "    def __init__(self, k):\n",
    "        self.k = k\n",
    "\n",
    "    def fit(self, X, y):\n",
    "        self.X_train = X\n",
    "        self.y_train = y\n",
    "\n",
    "    def predict(self, X):\n",
    "        return [self._predict(x) for x in X]\n",
    "\n",
    "    def _predict(self, x):\n",
    "        # Compute the distances\n",
    "        distances = [np.linalg.norm(x - x_train) for x_train in self.X_train]\n",
    "        \n",
    "        if len(distances) == 0:\n",
    "            raise ValueError(\"Training data is empty; cannot compute distances.\")\n",
    "        \n",
    "        # Get the closest k\n",
    "        k_indices = np.argsort(distances)[:self.k]\n",
    "        k_nearest_labels = [self.y_train[i] for i in k_indices]\n",
    "        print(k_nearest_labels)\n",
    "        if not k_nearest_labels:\n",
    "            raise ValueError(\"No neighbors found for the given test point.\")\n",
    "\n",
    "        # Majority vote\n",
    "        label_counts = {}\n",
    "        for label in k_nearest_labels:\n",
    "            if label in label_counts:\n",
    "                label_counts[label] += 1\n",
    "            else:\n",
    "                label_counts[label] = 1\n",
    "\n",
    "        # Find the label with the highest count\n",
    "        most_common_label = max(label_counts, key=label_counts.get)\n",
    "        print(\"Most common label:\", most_common_label)\n",
    "\n",
    "        return k_indices\n"
   ]
  },
  {
   "cell_type": "code",
   "execution_count": 112,
   "metadata": {},
   "outputs": [
    {
     "data": {
      "text/plain": [
       "(array([[ 0.49671415, -0.1382643 ],\n",
       "        [ 0.64768854,  1.52302986],\n",
       "        [-0.23415337, -0.23413696],\n",
       "        [ 1.57921282,  0.76743473],\n",
       "        [-0.46947439,  0.54256004],\n",
       "        [-0.46341769, -0.46572975],\n",
       "        [ 0.24196227, -1.91328024],\n",
       "        [-1.72491783, -0.56228753],\n",
       "        [-1.01283112,  0.31424733],\n",
       "        [-0.90802408, -1.4123037 ]]),\n",
       " array([1, 1, 0, 1, 0, 1, 0, 1, 1, 0], dtype=int32))"
      ]
     },
     "execution_count": 112,
     "metadata": {},
     "output_type": "execute_result"
    }
   ],
   "source": [
    "# Generate random data\n",
    "np.random.seed(42)\n",
    "X_train = np.random.randn(10, 2)\n",
    "y_train = np.random.randint(0, 2, size=10)\n",
    "X_test = np.array([[0.5, 0.5]])\n",
    "\n",
    "X_train, y_train"
   ]
  },
  {
   "cell_type": "code",
   "execution_count": 113,
   "metadata": {},
   "outputs": [
    {
     "name": "stdout",
     "output_type": "stream",
     "text": [
      "[np.int32(1), np.int32(0), np.int32(1)]\n",
      "Most common label: 1\n",
      "Naive KNN predictions: [0 4 1]\n",
      "Test time of Naive KNN - 0.0006792545318603516\n",
      "Total memory used by Naive KNN: 32 bytes\n"
     ]
    }
   ],
   "source": [
    "# Parameters\n",
    "k = 3\n",
    "\n",
    "# Naive KNN\n",
    "naive_knn = KNN(k)\n",
    "start_time = time.time()\n",
    "naive_knn.fit(X_train, y_train)\n",
    "y_hat = naive_knn.predict(X_test)[0]\n",
    "test_time_naive = time.time() - start_time\n",
    "knn_memory = asizeof.asizeof(naive_knn.fit(X_train, y_train)) + asizeof.asizeof(naive_knn.fit(X_train, y_train))\n",
    "print(\"Naive KNN predictions:\", y_hat)\n",
    "print(\"Test time of Naive KNN -\", test_time_naive)\n",
    "print(f\"Total memory used by Naive KNN: {knn_memory} bytes\")\n"
   ]
  },
  {
   "cell_type": "code",
   "execution_count": 114,
   "metadata": {},
   "outputs": [
    {
     "data": {
      "image/png": "[encoded data removed]",
      "text/plain": [
       "<Figure size 640x480 with 1 Axes>"
      ]
     },
     "metadata": {},
     "output_type": "display_data"
    }
   ],
   "source": [
    "\n",
    "plt.scatter(X_train[:, 0], X_train[:, 1], c=y_train, cmap='viridis', s=50, label=\"Class 0\")\n",
    "plt.scatter(X_test[0, 0], X_test[0, 1], color='red', label='Test Point', marker='x', s=100)\n",
    "plt.legend()\n",
    "\n",
    "# Plot naive KNN neighbors\n",
    "for idx in y_hat:\n",
    "    plt.plot([X_test[0, 0], X_train[idx, 0]], [X_test[0, 1], X_train[idx, 1]], 'g--', linewidth=0.8, label='Naive KNN Neighbor' if idx == y_hat[0] else \"\")\n",
    "\n",
    "plt.title(\"Naive KNN\")\n",
    "plt.xlabel(\"Dimension 1\")\n",
    "plt.ylabel(\"Dimension 2\")\n",
    "plt.grid()\n",
    "plt.show()"
   ]
  },
  {
   "cell_type": "markdown",
   "metadata": {},
   "source": [
    "### KD Tree KNN"
   ]
  },
  {
   "cell_type": "code",
   "execution_count": 122,
   "metadata": {},
   "outputs": [],
   "source": [
    "from collections import Counter\n",
    "\n",
    "class KDTree:\n",
    "    def __init__(self, points, leaf_size):\n",
    "        # Add an index column to the points for tracking original indices\n",
    "        self.data_with_indices = np.hstack((points, np.arange(len(points)).reshape(-1, 1)))\n",
    "        self.leaf_size = leaf_size\n",
    "        self.tree = self._build_tree(self.data_with_indices)\n",
    "\n",
    "    def _build_tree(self, data, depth=0):\n",
    "        # If the number of points is less than or equal to leaf_size, create a leaf node\n",
    "        if len(data) <= self.leaf_size:\n",
    "            return data  # Leaf node\n",
    "\n",
    "        # Determine the splitting axis\n",
    "        axis = depth % (data.shape[1] - 1)  # Exclude the index column from splitting\n",
    "        sorted_data = data[data[:, axis].argsort()]  # Sort data along the selected axis\n",
    "        median_index = len(sorted_data) // 2\n",
    "\n",
    "        # Recursively build left and right subtrees\n",
    "        left_subtree = self._build_tree(sorted_data[:median_index], depth + 1)\n",
    "        right_subtree = self._build_tree(sorted_data[median_index + 1:], depth + 1)\n",
    "\n",
    "        # Return the current node as a tuple: (median point, left subtree, right subtree)\n",
    "        return (sorted_data[median_index], left_subtree, right_subtree)\n",
    "\n",
    "    def query(self, query_point, num_neighbors, y_train):\n",
    "        indices, distances = self._query_recursive(self.tree, query_point, num_neighbors)\n",
    "        # Retrieve the actual points corresponding to the indices\n",
    "        nearest_points = self.data_with_indices[indices, :-1]\n",
    "        nearest_labels = y_train[indices]  # Get labels for the nearest neighbors\n",
    "\n",
    "        # Determine the most common label among the nearest neighbors\n",
    "        label_counts = Counter(nearest_labels)\n",
    "        most_common_label = label_counts.most_common(1)[0][0]\n",
    "\n",
    "        return indices, nearest_points, distances, most_common_label\n",
    "\n",
    "    def _query_recursive(self, node, query_point, num_neighbors, depth=0):\n",
    "        if isinstance(node, np.ndarray):  # If the node is a leaf\n",
    "            leaf_points = node[:, :-1]  # Extract points from the leaf\n",
    "            original_indices = node[:, -1].astype(int)  # Extract original indices\n",
    "\n",
    "            # Compute distances from the query point to all points in the leaf\n",
    "            distances = np.linalg.norm(leaf_points - query_point, axis=1)\n",
    "            # Sort distances and select the closest `num_neighbors`\n",
    "            sorted_indices = np.argsort(distances)\n",
    "            closest_indices = original_indices[sorted_indices[:num_neighbors]]\n",
    "            closest_distances = distances[sorted_indices[:num_neighbors]]\n",
    "\n",
    "            return closest_indices, closest_distances\n",
    "\n",
    "        if isinstance(node, tuple) and len(node) == 3:  # If the node is an internal node\n",
    "            median_point, left_subtree, right_subtree = node\n",
    "            axis = depth % query_point.shape[0]  # Determine the splitting axis\n",
    "\n",
    "            # Decide which subtree to explore first\n",
    "            if query_point[axis] < median_point[axis]:\n",
    "                primary_subtree, secondary_subtree = left_subtree, right_subtree\n",
    "            else:\n",
    "                primary_subtree, secondary_subtree = right_subtree, left_subtree\n",
    "\n",
    "            # Search the primary subtree\n",
    "            closest_indices, closest_distances = self._query_recursive(primary_subtree, query_point, num_neighbors, depth + 1)\n",
    "\n",
    "            # Check if the secondary subtree might contain closer points\n",
    "            if len(closest_indices) < num_neighbors or abs(query_point[axis] - median_point[axis]) < max(closest_distances):\n",
    "                secondary_indices, secondary_distances = self._query_recursive(secondary_subtree, query_point, num_neighbors, depth + 1)\n",
    "\n",
    "                # Combine results from both subtrees\n",
    "                all_indices = np.concatenate([closest_indices, secondary_indices])\n",
    "                all_distances = np.concatenate([closest_distances, secondary_distances])\n",
    "\n",
    "                # Sort combined results by distance and select the closest `num_neighbors`\n",
    "                sorted_combined = np.argsort(all_distances)\n",
    "                closest_indices = all_indices[sorted_combined][:num_neighbors]\n",
    "                closest_distances = all_distances[sorted_combined][:num_neighbors]\n",
    "        \n",
    "            return closest_indices, closest_distances\n",
    "\n",
    "        # If the node is invalid, return empty arrays\n",
    "        return np.array([]), np.array([])"
   ]
  },
  {
   "cell_type": "code",
   "execution_count": 123,
   "metadata": {},
   "outputs": [
    {
     "name": "stdout",
     "output_type": "stream",
     "text": [
      "Indices of nearest neighbors: [0 4 1]\n",
      "Nearest points:\n",
      " [[ 0.49671415 -0.1382643 ]\n",
      " [-0.46947439  0.54256004]\n",
      " [ 0.64768854  1.52302986]]\n",
      "Most common label: 1\n",
      "Distances to nearest points: [0.63827276 0.97040813 1.03363533]\n",
      "Time taken to train: 0.000244140625\n",
      "Total memory used by KDTree: 1520 bytes\n"
     ]
    }
   ],
   "source": [
    "\n",
    "start_time = time.time()\n",
    "kdtree = KDTree(X_train, leaf_size=20)\n",
    "train_time = time.time() - start_time\n",
    "\n",
    "start_time = time.time()\n",
    "indices, points, distances, most_common_label = kdtree.query(X_test[0], num_neighbors=3, y_train=y_train)\n",
    "test_time = time.time() - start_time\n",
    "\n",
    "train_memory = asizeof.asizeof(KDTree(X_train, leaf_size=20))\n",
    "test_memory = asizeof.asizeof(kdtree.query(X_test[0], num_neighbors=3, y_train=y_train))\n",
    "total_memory = train_memory + test_memory\n",
    "\n",
    "print(\"Indices of nearest neighbors:\", indices)\n",
    "print(\"Nearest points:\\n\", points)\n",
    "print(\"Most common label:\", most_common_label)\n",
    "print(\"Distances to nearest points:\", distances)\n",
    "print(\"Time taken to train:\", train_time)\n",
    "print(f\"Total memory used by KDTree: {total_memory} bytes\")\n"
   ]
  },
  {
   "cell_type": "code",
   "execution_count": 129,
   "metadata": {},
   "outputs": [
    {
     "data": {
      "image/png": "[encoded data removed]",
      "text/plain": [
       "<Figure size 800x800 with 1 Axes>"
      ]
     },
     "metadata": {},
     "output_type": "display_data"
    }
   ],
   "source": [
    "def visualize_kdtree(kdtree, query_point, num_neighbors, y_train):\n",
    "    indices, nearest_points, distances, most_common_label = kdtree.query(query_point, num_neighbors, y_train)\n",
    "    \n",
    "    # Extract the original points from the KDTree\n",
    "    X_train = kdtree.data_with_indices[:, :-1]\n",
    "    \n",
    "    # Plot the points\n",
    "    plt.figure(figsize=(8, 8))\n",
    "    plt.scatter(X_train[:, 0], X_train[:, 1], c='blue', label='Training points')\n",
    "    plt.scatter(query_point[0], query_point[1], c='red', label='Query point')\n",
    "    plt.scatter(nearest_points[:, 0], nearest_points[:, 1], c='green', label='Nearest neighbors', marker='x')\n",
    "    plt.title('KDTree K Nearest Neighbors')\n",
    "    plt.xlabel('X1')\n",
    "    plt.ylabel('X2')\n",
    "    plt.legend()\n",
    "\n",
    "    # Recursive function to plot partitions\n",
    "    def plot_partitions(node, depth=0, bounds=None):\n",
    "        if isinstance(node, tuple) and len(node) == 3:\n",
    "            median_point, left_subtree, right_subtree = node\n",
    "            axis = depth % 2  # Assuming 2D points for plotting\n",
    "\n",
    "            # Initialize bounds if None\n",
    "            if bounds is None:\n",
    "                bounds = [[np.min(X_train[:, 0]), np.max(X_train[:, 0])],\n",
    "                          [np.min(X_train[:, 1]), np.max(X_train[:, 1])]]\n",
    "\n",
    "            # Draw splitting line based on the axis\n",
    "            if axis == 0:  # Vertical line for X1\n",
    "                plt.plot([median_point[0], median_point[0]], bounds[1], 'gray', linestyle='--', alpha=0.7)\n",
    "                # Update bounds for subtrees\n",
    "                left_bounds = [[bounds[0][0], median_point[0]], bounds[1]]\n",
    "                right_bounds = [[median_point[0], bounds[0][1]], bounds[1]]\n",
    "            else:  # Horizontal line for X2\n",
    "                plt.plot(bounds[0], [median_point[1], median_point[1]], 'gray', linestyle='--', alpha=0.7)\n",
    "                # Update bounds for subtrees\n",
    "                left_bounds = [bounds[0], [bounds[1][0], median_point[1]]]\n",
    "                right_bounds = [bounds[0], [median_point[1], bounds[1][1]]]\n",
    "\n",
    "            # Recurse on left and right subtrees\n",
    "            plot_partitions(left_subtree, depth + 1, left_bounds)\n",
    "            plot_partitions(right_subtree, depth + 1, right_bounds)\n",
    "\n",
    "    # Start plotting partitions from the root\n",
    "    plot_partitions(kdtree.tree)\n",
    "    \n",
    "    plt.show()\n",
    "\n",
    "visualize_kdtree(kdtree, X_test[0], num_neighbors=3, y_train=y_train)\n"
   ]
  },
  {
   "cell_type": "code",
   "execution_count": null,
   "metadata": {},
   "outputs": [],
   "source": []
  }
 ],
 "metadata": {
  "kernelspec": {
   "display_name": "Python 3",
   "language": "python",
   "name": "python3"
  },
  "language_info": {
   "codemirror_mode": {
    "name": "ipython",
    "version": 3
   },
   "file_extension": ".py",
   "mimetype": "text/x-python",
   "name": "python",
   "nbconvert_exporter": "python",
   "pygments_lexer": "ipython3",
   "version": "3.13.0"
  }
 },
 "nbformat": 4,
 "nbformat_minor": 2
}
